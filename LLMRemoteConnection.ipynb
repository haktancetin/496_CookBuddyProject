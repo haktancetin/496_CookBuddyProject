{
 "nbformat": 4,
 "nbformat_minor": 0,
 "metadata": {
  "colab": {
   "provenance": [],
   "gpuType": "T4"
  },
  "kernelspec": {
   "name": "python3",
   "display_name": "Python 3"
  },
  "language_info": {
   "name": "python"
  },
  "accelerator": "GPU"
 },
 "cells": [
  {
   "cell_type": "code",
   "execution_count": null,
   "metadata": {
    "id": "aGzZMOTGW6VQ"
   },
   "outputs": [],
   "source": [
    "import locale\n",
    "locale.getpreferredencoding = lambda: \"UTF-8\"\n",
    "\n",
    "!curl --proto '=https' --tlsv1.2 -sSf https://sh.rustup.rs | sh -s -- -y\n",
    "!/root/.cargo/bin/rustup component add rust-src\n",
    "!cp /root/.cargo/bin/cargo /usr/local/sbin"
   ]
  },
  {
   "cell_type": "code",
   "source": [
    "!pip install accelerate autoawq vllm==0.2.2 -U\n",
    "!wget https://github.com/huggingface/text-generation-inference/archive/refs/tags/v1.4.0.tar.gz\n",
    "!tar -xf v1.4.0.tar.gz\n",
    "!source ~/.cargo/env && cd text-generation-inference-1.4.0 && BUILD_EXTENSIONS=False make install"
   ],
   "metadata": {
    "id": "UQOPvWVBXGU2"
   },
   "execution_count": null,
   "outputs": []
  },
  {
   "cell_type": "code",
   "source": [
    "!pip install colab-xterm\n",
    "%load_ext colabxterm\n",
    "%xterm"
   ],
   "metadata": {
    "id": "kPGRKcrYXKa0"
   },
   "execution_count": null,
   "outputs": []
  },
  {
   "cell_type": "markdown",
   "source": [
    "Run this command in the xterm window:\n",
    "\n",
    "`source ~/.cargo/env && text-generation-launcher --model-id INSERT-MODEL-NAME-HERE --quantize awq --port 5000 --hostname 127.0.0.1 --huggingface-hub-cache=/content/data`\n"
   ],
   "metadata": {
    "id": "-xnQatMFist3"
   }
  },
  {
   "cell_type": "code",
   "source": [
    "!pip install pyngrok\n",
    "from pyngrok import ngrok"
   ],
   "metadata": {
    "id": "xkfWRSBMnWB_"
   },
   "execution_count": null,
   "outputs": []
  },
  {
   "cell_type": "code",
   "source": [
    "from IPython import get_ipython\n",
    "get_ipython().system_raw('ngrok config add-authtoken insert-authtoken-here')"
   ],
   "metadata": {
    "id": "LNL3wBDSrRjn"
   },
   "execution_count": null,
   "outputs": []
  },
  {
   "cell_type": "code",
   "source": [
    "http_tunnel = ngrok.connect(bind_tls=True, domain=\"insert-custom-domain-here\", addr=5000)\n",
    "print(http_tunnel)"
   ],
   "metadata": {
    "id": "sZCpnezAvgNr"
   },
   "execution_count": null,
   "outputs": []
  }
 ]
}
